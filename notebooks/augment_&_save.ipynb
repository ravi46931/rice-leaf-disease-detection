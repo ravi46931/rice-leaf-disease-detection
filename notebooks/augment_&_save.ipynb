{
 "cells": [
  {
   "cell_type": "code",
   "execution_count": 11,
   "id": "2a9b69cf-7e7e-40a8-b2e5-cea81d73799e",
   "metadata": {},
   "outputs": [],
   "source": [
    "# From here\n",
    "import os\n",
    "from PIL import Image\n",
    "import numpy as np\n",
    "from tensorflow.keras.preprocessing.image import ImageDataGenerator \n",
    "input_dir = '../data/processed/Rice Leaf Disease Images/'\n",
    "\n",
    "data_augmentation = ImageDataGenerator(\n",
    "    rotation_range=40,\n",
    "    width_shift_range=0.2,\n",
    "    height_shift_range=0.2,\n",
    "    shear_range=0.2,\n",
    "    zoom_range=0.2,\n",
    "    horizontal_flip=True,\n",
    "    fill_mode='nearest'\n",
    ")\n"
   ]
  },
  {
   "cell_type": "code",
   "execution_count": 12,
   "id": "320612d3-b54e-4226-b92f-b7abb415d734",
   "metadata": {},
   "outputs": [
    {
     "name": "stdout",
     "output_type": "stream",
     "text": [
      "Found 5932 images belonging to 4 classes.\n"
     ]
    }
   ],
   "source": [
    "# Initialize the generator\n",
    "image_generator = data_augmentation.flow_from_directory(\n",
    "    input_dir,\n",
    "    target_size=(150, 150),\n",
    "    batch_size=1,\n",
    "    class_mode='categorical',  # Use categorical to get class labels\n",
    "    save_to_dir=None,  # Set to None to avoid automatic saving\n",
    "    save_format='jpg'\n",
    ")\n"
   ]
  },
  {
   "cell_type": "code",
   "execution_count": 13,
   "id": "9893a15b-d2cf-441f-b35b-2687cc5f3164",
   "metadata": {},
   "outputs": [
    {
     "data": {
      "text/plain": [
       "{'Bacterialblight': 0, 'Blast': 1, 'Brownspot': 2, 'Tungro': 3}"
      ]
     },
     "execution_count": 13,
     "metadata": {},
     "output_type": "execute_result"
    }
   ],
   "source": [
    "# Get class indices to use for filenames\n",
    "class_indices = image_generator.class_indices\n",
    "class_indices"
   ]
  },
  {
   "cell_type": "code",
   "execution_count": 14,
   "id": "5d4f2db8-c0f6-4ca4-baf4-8d8467ae4558",
   "metadata": {},
   "outputs": [
    {
     "data": {
      "text/plain": [
       "{0: 'Bacterialblight', 1: 'Blast', 2: 'Brownspot', 3: 'Tungro'}"
      ]
     },
     "execution_count": 14,
     "metadata": {},
     "output_type": "execute_result"
    }
   ],
   "source": [
    "# Reverse the class indices to get class names\n",
    "reverse_class_indices = {v: k for k, v in class_indices.items()}\n",
    "reverse_class_indices"
   ]
  },
  {
   "cell_type": "code",
   "execution_count": 15,
   "id": "f6c2e93b-1a52-4b5d-9cd7-3cdb1affb69a",
   "metadata": {},
   "outputs": [
    {
     "data": {
      "text/plain": [
       "0"
      ]
     },
     "execution_count": 15,
     "metadata": {},
     "output_type": "execute_result"
    }
   ],
   "source": [
    "image_generator.classes[0]"
   ]
  },
  {
   "cell_type": "code",
   "execution_count": 16,
   "id": "5b7ad8e5-0321-4df5-9a34-46afcca25a2a",
   "metadata": {},
   "outputs": [],
   "source": [
    "# Create directories for each class if they don't exist\n",
    "for class_name in reverse_class_indices.values():\n",
    "    os.makedirs(os.path.join('imgs', class_name), exist_ok=True)\n",
    "\n",
    "# Number of augmentations\n",
    "num_augmented_images = 1\n",
    "\n",
    "# Loop through each image in the generator\n",
    "# for i in range(len(image_generator.filenames)):\n",
    "#     original_image = image_generator[i][0]  # Get the original image\n",
    "#     class_label = image_generator.classes[i]  # Get the corresponding class index\n",
    "#     class_name = reverse_class_indices[class_label]  # Get the class name\n",
    "\n",
    "#     for j in range(num_augmented_images):\n",
    "#         augmented_image = next(image_generator)[0]  # Get the next augmented image\n",
    "#         # Save the augmented image with class name in the filename\n",
    "#         pil_image = Image.fromarray(np.uint8(augmented_image))  # Convert to PIL Image\n",
    "\n",
    "#         # Save the augmented image using PIL\n",
    "#         save_path = os.path.join('imgs', class_name, f'augmented_{class_name}_{i}_{j}.jpg')\n",
    "#         pil_image.save(save_path)  # Save the image\n"
   ]
  },
  {
   "cell_type": "code",
   "execution_count": 17,
   "id": "4b079428-093a-4743-9377-b139e20facf1",
   "metadata": {},
   "outputs": [],
   "source": [
    "import time"
   ]
  },
  {
   "cell_type": "code",
   "execution_count": 18,
   "id": "d10a62ea-5f2b-4d71-b4bd-57022750ed0a",
   "metadata": {},
   "outputs": [
    {
     "ename": "IndexError",
     "evalue": "index 14 is out of bounds for axis 0 with size 12",
     "output_type": "error",
     "traceback": [
      "\u001b[1;31m---------------------------------------------------------------------------\u001b[0m",
      "\u001b[1;31mIndexError\u001b[0m                                Traceback (most recent call last)",
      "Cell \u001b[1;32mIn[18], line 13\u001b[0m\n\u001b[0;32m     10\u001b[0m class_name \u001b[38;5;241m=\u001b[39m reverse_class_indices[np\u001b[38;5;241m.\u001b[39margmax(class_label)]  \u001b[38;5;66;03m# Get the class name\u001b[39;00m\n\u001b[0;32m     12\u001b[0m \u001b[38;5;28;01mfor\u001b[39;00m j \u001b[38;5;129;01min\u001b[39;00m \u001b[38;5;28mrange\u001b[39m(num_augmented_images):\n\u001b[1;32m---> 13\u001b[0m     augmented_image \u001b[38;5;241m=\u001b[39m \u001b[38;5;28;43mnext\u001b[39;49m\u001b[43m(\u001b[49m\u001b[43mimage_generator\u001b[49m\u001b[43m)\u001b[49m\u001b[43m[\u001b[49m\u001b[38;5;241;43m0\u001b[39;49m\u001b[43m]\u001b[49m\u001b[43m[\u001b[49m\u001b[43mk\u001b[49m\u001b[43m]\u001b[49m  \u001b[38;5;66;03m# Get the k-th augmented image in the batch\u001b[39;00m\n\u001b[0;32m     14\u001b[0m     pil_image \u001b[38;5;241m=\u001b[39m Image\u001b[38;5;241m.\u001b[39mfromarray(np\u001b[38;5;241m.\u001b[39muint8(augmented_image))  \u001b[38;5;66;03m# Convert to PIL Image\u001b[39;00m\n\u001b[0;32m     16\u001b[0m     \u001b[38;5;66;03m# Save the augmented image using PIL\u001b[39;00m\n",
      "\u001b[1;31mIndexError\u001b[0m: index 14 is out of bounds for axis 0 with size 12"
     ]
    }
   ],
   "source": [
    "start_time = time.time()\n",
    "# Loop through each batch in the generator\n",
    "for i in range(len(image_generator.filenames)):\n",
    "    batch_images, batch_labels = image_generator[i]  # Get a batch of images and labels\n",
    "\n",
    "    # Loop through each image in the batch\n",
    "    for k in range(batch_images.shape[0]):  # batch_images.shape[0] is the batch size\n",
    "        original_image = batch_images[k]  # Get the k-th image in the batch\n",
    "        class_label = batch_labels[k]  # Get the corresponding class index\n",
    "        class_name = reverse_class_indices[np.argmax(class_label)]  # Get the class name\n",
    "\n",
    "        for j in range(num_augmented_images):\n",
    "            augmented_image = next(image_generator)[0][k]  # Get the k-th augmented image in the batch\n",
    "            pil_image = Image.fromarray(np.uint8(augmented_image))  # Convert to PIL Image\n",
    "\n",
    "            # Save the augmented image using PIL\n",
    "            save_path = os.path.join('imgs', class_name, f'augmented_{class_name}_{i}_{j}_{k}.jpg')\n",
    "            pil_image.save(save_path)  # Save the image\n",
    "            \n",
    "end_time = time.time()\n",
    "# Total execution time\n",
    "execution_time = end_time - start_time\n",
    "print(f\"Execution time: {execution_time:.2f} seconds\")"
   ]
  },
  {
   "cell_type": "code",
   "execution_count": null,
   "id": "d46631cb-61ea-49c8-aa4a-ff1b053e0031",
   "metadata": {},
   "outputs": [],
   "source": [
    "Execution time: 453.97 seconds"
   ]
  },
  {
   "cell_type": "code",
   "execution_count": null,
   "id": "65f8ebc1-ef47-4c94-a9ed-f6660e2a04b2",
   "metadata": {},
   "outputs": [],
   "source": []
  },
  {
   "cell_type": "code",
   "execution_count": null,
   "id": "cec63aca-de56-4189-814c-ca63af977359",
   "metadata": {},
   "outputs": [],
   "source": []
  },
  {
   "cell_type": "code",
   "execution_count": null,
   "id": "716c489b-d684-4c19-a042-b8ba9c65f5f8",
   "metadata": {},
   "outputs": [],
   "source": []
  },
  {
   "cell_type": "code",
   "execution_count": null,
   "id": "e1832c6e-be97-44b1-929e-b0ca34af8f7e",
   "metadata": {},
   "outputs": [],
   "source": []
  },
  {
   "cell_type": "code",
   "execution_count": null,
   "id": "90ddd2ac-8ad1-4a99-b539-1e17e198d9d1",
   "metadata": {},
   "outputs": [],
   "source": []
  }
 ],
 "metadata": {
  "kernelspec": {
   "display_name": "Python 3 (ipykernel)",
   "language": "python",
   "name": "python3"
  },
  "language_info": {
   "codemirror_mode": {
    "name": "ipython",
    "version": 3
   },
   "file_extension": ".py",
   "mimetype": "text/x-python",
   "name": "python",
   "nbconvert_exporter": "python",
   "pygments_lexer": "ipython3",
   "version": "3.10.11"
  }
 },
 "nbformat": 4,
 "nbformat_minor": 5
}
